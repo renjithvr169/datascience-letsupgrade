{
 "cells": [
  {
   "cell_type": "markdown",
   "metadata": {},
   "source": [
    "# Question 1\n",
    "### Create an empty list. Accept 10 numbers from the user and append to it the list if it is an even number.\n",
    "### Answer:"
   ]
  },
  {
   "cell_type": "code",
   "execution_count": 1,
   "metadata": {},
   "outputs": [
    {
     "name": "stdout",
     "output_type": "stream",
     "text": [
      "3\n",
      "45\n",
      "23\n",
      "46\n",
      "986\n",
      "345\n",
      "76\n",
      "59\n",
      "80\n",
      "54\n",
      "[46, 986, 76, 80, 54]\n"
     ]
    }
   ],
   "source": [
    "sample_list = list()\n",
    "\n",
    "for i in range(1,11):\n",
    "    num = int(input())\n",
    "    if num % 2 == 0:\n",
    "        sample_list.append(num)\n",
    "\n",
    "print(sample_list)"
   ]
  },
  {
   "cell_type": "markdown",
   "metadata": {},
   "source": [
    "# Question 2\n",
    "### Create a notebook on LIST COMPREHENSION. This exercise is to put you in a Self learning mode\n",
    "### Answer"
   ]
  },
  {
   "cell_type": "code",
   "execution_count": 31,
   "metadata": {},
   "outputs": [
    {
     "name": "stdout",
     "output_type": "stream",
     "text": [
      "[2, 4, 6, 8, 10]\n",
      "[1, 4, 9, 16, 25, 36, 49, 64, 81, 100, 121, 144, 169, 196, 225, 256, 289, 324, 361, 400]\n"
     ]
    }
   ],
   "source": [
    "# 1. Printing all even numbers between 1 to 10 using list comprehension\n",
    "\n",
    "lst = [i for i in range(2, 11, 2)]\n",
    "print(lst)\n",
    "\n",
    "\n",
    "# 2. Use of if statement in list comprehension\n",
    "lst2 = [i*i for i in range(1, 21) if i%1 == 0]\n",
    "print(lst2)"
   ]
  },
  {
   "cell_type": "markdown",
   "metadata": {},
   "source": [
    "#### ==================================================================================================================="
   ]
  },
  {
   "cell_type": "markdown",
   "metadata": {},
   "source": [
    "# Question 3\n",
    "### In this assignment, given a number n, you have to write a program that generates a dictionary d which contains   (i, i*i), where i is from 1 to n (both included). Then you have to just print this dictionary d.\n",
    "### Answer:"
   ]
  },
  {
   "cell_type": "code",
   "execution_count": 7,
   "metadata": {},
   "outputs": [
    {
     "name": "stdout",
     "output_type": "stream",
     "text": [
      "8\n",
      "{1: 1, 2: 4, 3: 9, 4: 16, 5: 25, 6: 36, 7: 49, 8: 64}\n"
     ]
    }
   ],
   "source": [
    "n= int(input())\n",
    "\n",
    "sample_dict=dict()\n",
    "\n",
    "for i in range(1, n+1):\n",
    "    sample_dict.update({i:i*i})\n",
    "    \n",
    "print(sample_dict)\n",
    "\n",
    "\n",
    "## Alternate way \n",
    "# n= int(input()) \n",
    "# sample_dict = {i:i*i for i in range(1, n+1)}\n",
    "# print(sample_dict)"
   ]
  },
  {
   "cell_type": "markdown",
   "metadata": {},
   "source": [
    "#### ==================================================================================================================="
   ]
  },
  {
   "cell_type": "markdown",
   "metadata": {},
   "source": [
    "# Question 4\n",
    "### There is a robot which wants to go the charging point to charge itself. The robot moves in a 2-D plane from the original point (0,0). The robot can move toward UP, DOWN, LEFT and RIGHT with given steps.\n",
    "### Answer:"
   ]
  },
  {
   "cell_type": "code",
   "execution_count": 23,
   "metadata": {},
   "outputs": [
    {
     "name": "stdout",
     "output_type": "stream",
     "text": [
      "4\n",
      "UP 5\n",
      "DOWN 3\n",
      "LEFT 3\n",
      "RIGHT 2\n",
      "2\n"
     ]
    }
   ],
   "source": [
    "from math import sqrt\n",
    "\n",
    "n = int(input())\n",
    "\n",
    "x,y = 0, 0\n",
    "\n",
    "for i in range(1,n+1):\n",
    "    direction, dist = input().split() \n",
    "    dist = int(dist)\n",
    "    if direction == 'UP':\n",
    "        y = y + dist\n",
    "    elif direction == 'DOWN':\n",
    "        y = y - dist\n",
    "    elif direction == 'LEFT':\n",
    "        x = x - dist\n",
    "    elif direction == 'RIGHT':\n",
    "        x = x + dist\n",
    "    else:\n",
    "        print('INVALID Input')\n",
    "        break\n",
    "        \n",
    "distance = int(round(sqrt(x**2+y**2), 0))\n",
    "\n",
    "print(distance)"
   ]
  },
  {
   "cell_type": "markdown",
   "metadata": {},
   "source": [
    "## Thank you LetsUpgrade"
   ]
  }
 ],
 "metadata": {
  "kernelspec": {
   "display_name": "Python 3",
   "language": "python",
   "name": "python3"
  },
  "language_info": {
   "codemirror_mode": {
    "name": "ipython",
    "version": 3
   },
   "file_extension": ".py",
   "mimetype": "text/x-python",
   "name": "python",
   "nbconvert_exporter": "python",
   "pygments_lexer": "ipython3",
   "version": "3.8.3"
  }
 },
 "nbformat": 4,
 "nbformat_minor": 4
}
