{
 "cells": [
  {
   "cell_type": "markdown",
   "metadata": {},
   "source": [
    "# Question-1\n",
    "## Create a numpy array starting from 2 till 50 with a stepsize of 3."
   ]
  },
  {
   "cell_type": "code",
   "execution_count": 2,
   "metadata": {},
   "outputs": [
    {
     "name": "stdout",
     "output_type": "stream",
     "text": [
      "[ 2  5  8 11 14 17 20 23 26 29 32 35 38 41 44 47 50]\n"
     ]
    }
   ],
   "source": [
    "import numpy as np\n",
    "\n",
    "arr1 = np.arange(2, 51, 3)\n",
    "\n",
    "print(arr1)"
   ]
  },
  {
   "cell_type": "markdown",
   "metadata": {},
   "source": [
    "# Question-2\n",
    "## Accept two lists of 5 elements each from the user. Convert them to numpy arrays. Concatenate these arrays and print it. Also sort these arrays and print it."
   ]
  },
  {
   "cell_type": "code",
   "execution_count": 18,
   "metadata": {},
   "outputs": [
    {
     "name": "stdout",
     "output_type": "stream",
     "text": [
      "43\n",
      "12\n",
      "54\n",
      "87\n",
      "23\n",
      "98\n",
      "23\n",
      "48\n",
      "92\n",
      "45\n",
      "Concatinated Array: [43 12 54 87 23 98 23 48 92 45]\n",
      "Sorted Array: [12 23 23 43 45 48 54 87 92 98]\n"
     ]
    }
   ],
   "source": [
    "lst1, lst2 = [], []\n",
    "n = 1\n",
    "while n<=2:\n",
    "    \n",
    "    for i in range(5):\n",
    "        lst_input = int(input())\n",
    "        if n == 1:\n",
    "            lst1.append(lst_input)\n",
    "        else:\n",
    "            lst2.append(lst_input)\n",
    "    n+=1\n",
    "\n",
    "arr1 = np.array(lst1)\n",
    "arr2 = np.array(lst2)\n",
    "\n",
    "array_concat = np.concatenate((arr1, arr2))\n",
    "print('Concatinated Array:',array_concat)\n",
    "\n",
    "print('Sorted Array:', np.sort(array_concat))"
   ]
  },
  {
   "cell_type": "markdown",
   "metadata": {},
   "source": [
    "# Question-3\n",
    "## Write a code snippet to find the dimensions of a ndarray and its size."
   ]
  },
  {
   "cell_type": "code",
   "execution_count": 24,
   "metadata": {},
   "outputs": [
    {
     "name": "stdout",
     "output_type": "stream",
     "text": [
      "Dimensions: 2\n",
      "Size: 9\n"
     ]
    }
   ],
   "source": [
    "Sample_array = np.array([\n",
    "                            [1,2,3],\n",
    "                            [4,5,6],\n",
    "                            [7,8,9]\n",
    "                        ])\n",
    "print('Dimensions:',Sample_array.ndim)\n",
    "\n",
    "print('Size:', Sample_array.size)"
   ]
  },
  {
   "cell_type": "markdown",
   "metadata": {},
   "source": [
    "# Question-4\n",
    "## How to convert a 1D array into a 2D array? Demonstrate with the help of a code snippet"
   ]
  },
  {
   "cell_type": "code",
   "execution_count": 55,
   "metadata": {},
   "outputs": [
    {
     "name": "stdout",
     "output_type": "stream",
     "text": [
      "[[1 2 3]\n",
      " [4 5 6]\n",
      " [7 8 9]]\n"
     ]
    }
   ],
   "source": [
    "arr = np.array([1,2,3,4,5,6,7,8,9])\n",
    "\n",
    "arr = np.reshape(arr, (3,3))\n",
    "print(arr)"
   ]
  },
  {
   "cell_type": "code",
   "execution_count": 53,
   "metadata": {},
   "outputs": [
    {
     "name": "stdout",
     "output_type": "stream",
     "text": [
      "[[1]\n",
      " [2]\n",
      " [3]\n",
      " [4]\n",
      " [5]\n",
      " [6]\n",
      " [7]\n",
      " [8]\n",
      " [9]]\n"
     ]
    }
   ],
   "source": [
    "arr = np.array([1,2,3,4,5,6,7,8,9])\n",
    "arr = np.expand_dims(arr, axis = 1)\n",
    "print(arr)"
   ]
  },
  {
   "cell_type": "markdown",
   "metadata": {},
   "source": [
    "# Question-5\n",
    "## Consider two square numpy arrays. Stack them vertically and horizontally."
   ]
  },
  {
   "cell_type": "code",
   "execution_count": 65,
   "metadata": {},
   "outputs": [
    {
     "name": "stdout",
     "output_type": "stream",
     "text": [
      "Vertical Stack:\n",
      "[[ 4  9 16]\n",
      " [25 36 49]]\n",
      "Horizontal stack:\n",
      "[ 4  9 16 25 36 49]\n"
     ]
    }
   ],
   "source": [
    "sq_arr1 = np.square([2,3,4])\n",
    "sq_arr2 = np.square([5,6,7])\n",
    "\n",
    "print('Vertical Stack:')\n",
    "print(np.vstack((sq_arr1,sq_arr2)))\n",
    "\n",
    "print('Horizontal stack:')\n",
    "print(np.hstack((sq_arr1,sq_arr2)))"
   ]
  },
  {
   "cell_type": "markdown",
   "metadata": {},
   "source": [
    "# Question-6\n",
    "## How to get unique items and counts of unique items?"
   ]
  },
  {
   "cell_type": "code",
   "execution_count": 94,
   "metadata": {},
   "outputs": [
    {
     "name": "stdout",
     "output_type": "stream",
     "text": [
      "Unique Values are: \n",
      "6\n",
      "7\n",
      "8\n",
      "9\n",
      "Count of unique values: 4\n"
     ]
    }
   ],
   "source": [
    "arr = np.array([4, 7, 8, 9, 5, 6, 5, 4, 4])\n",
    "arr1, arr2 = np.unique(arr, return_counts=True)\n",
    "\n",
    "d ={}\n",
    "\n",
    "for i in range(len(arr1)):\n",
    "    d[arr1[i]]=arr2[i]\n",
    "\n",
    "count = 0\n",
    "print('Unique Values are: ')\n",
    "\n",
    "for i in d:\n",
    "    if d[i]==1:\n",
    "        print(i)\n",
    "        count += 1\n",
    "print('Count of unique values:', count)"
   ]
  },
  {
   "cell_type": "markdown",
   "metadata": {},
   "source": [
    "## Thank You LetsUpgrade"
   ]
  }
 ],
 "metadata": {
  "kernelspec": {
   "display_name": "Python 3",
   "language": "python",
   "name": "python3"
  },
  "language_info": {
   "codemirror_mode": {
    "name": "ipython",
    "version": 3
   },
   "file_extension": ".py",
   "mimetype": "text/x-python",
   "name": "python",
   "nbconvert_exporter": "python",
   "pygments_lexer": "ipython3",
   "version": "3.8.3"
  }
 },
 "nbformat": 4,
 "nbformat_minor": 4
}
